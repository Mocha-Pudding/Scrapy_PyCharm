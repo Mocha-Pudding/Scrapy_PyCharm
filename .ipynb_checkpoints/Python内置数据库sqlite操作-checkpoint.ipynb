{
 "cells": [
  {
   "cell_type": "markdown",
   "metadata": {},
   "source": [
    "# 数据库操作语言 --sql"
   ]
  },
  {
   "cell_type": "markdown",
   "metadata": {},
   "source": [
    "### 创建数据库表格的sql语句，输入表格名，括号内是表格的列名【随意】以及类型【字符串varchar varchar(长度)，数字int tiny，时间datetime，文本text】\n",
    "##### create table 表格名称（column1 type， column2 type，……，columnN type）"
   ]
  },
  {
   "cell_type": "code",
   "execution_count": null,
   "metadata": {
    "collapsed": true
   },
   "outputs": [],
   "source": []
  },
  {
   "cell_type": "markdown",
   "metadata": {},
   "source": [
    "### 插入数据到数据库表格中【注意中英文字符，字符串数据需要引号包裹】\n",
    "##### insert into 表格名称（column1， column2， column3，……， columnN） values （值1， 值2， 值3， ……，值N）"
   ]
  },
  {
   "cell_type": "code",
   "execution_count": null,
   "metadata": {
    "collapsed": true
   },
   "outputs": [],
   "source": []
  },
  {
   "cell_type": "markdown",
   "metadata": {},
   "source": [
    "## 查询语句【这个可以复杂可以简单】\n",
    "##### select * from 表格名称"
   ]
  },
  {
   "cell_type": "code",
   "execution_count": null,
   "metadata": {
    "collapsed": true
   },
   "outputs": [],
   "source": []
  },
  {
   "cell_type": "markdown",
   "metadata": {},
   "source": [
    "## sqlite3链接操作"
   ]
  },
  {
   "cell_type": "code",
   "execution_count": null,
   "metadata": {},
   "outputs": [],
   "source": [
    "import sqlite3\n",
    "\n",
    "conn = sqlite3.connect(\"db.sqlite\")   #名称随意取，后缀也可以随意\n",
    "cu = conn.cursor  #cursor是光标的意思，在查询中很重要\n",
    "\n",
    "cu.execute(\"这里放需要执行的sql语句\")  #例如下面语句\n",
    "cu.execute(\"insert into zufang (title, money) values ('{}','{}')\".format(item['title'], item['money'])\n",
    "           \n",
    "#在执行了查询语句后，execute函数不会返回任何结果，提取查询出来的结果，需要如下语句\n",
    "all_result = cu.fetchall()"
   ]
  },
  {
   "cell_type": "markdown",
   "metadata": {},
   "source": [
    "#### 注意：fetchall函数只能执行一次，执行第二次会无法获取。 cu就是cursor，光标的意思\n",
    "#### 查询到结果之后，光标在数据头部；执行一次后，光标就跑到了数据的尾部。\n",
    "#### 如果不需要再次拿到提取数据，只要再查询一次就可以了\n",
    "#### 当然，fetchall有多个函数，fetchone、fetcheall、fetchmany，分别得提取一个、提取全部、提取多个【指定】\n",
    "    \n",
    "#### 数据获取完成之后，一定要记得关闭\n",
    "conn.close()"
   ]
  },
  {
   "cell_type": "markdown",
   "metadata": {},
   "source": [
    "## pipelines.py的类结构解析"
   ]
  },
  {
   "cell_type": "code",
   "execution_count": null,
   "metadata": {},
   "outputs": [],
   "source": [
    "def open_spider(self, spider): #这个函数是爬虫开始运行的时候执行，链接sqlite数据库可以放在这里\n",
    "    \n",
    "def process_item(self, item, spider):  #爬虫从html中分析得到数据，传入item，item被丢到管道文件中，被这个…\n",
    "    \n",
    "def spider_close(self, spider):  #爬虫关闭时，所做的操作。一般是关闭文件和关闭数据库"
   ]
  },
  {
   "cell_type": "markdown",
   "metadata": {},
   "source": [
    "### setting.py文件内容"
   ]
  },
  {
   "cell_type": "code",
   "execution_count": null,
   "metadata": {
    "collapsed": true
   },
   "outputs": [],
   "source": [
    "ITEM_PIPELINES = {\n",
    "    'zufang.pipelines.ZufangPipeline': 300,\n",
    "}"
   ]
  },
  {
   "cell_type": "markdown",
   "metadata": {},
   "source": [
    "#### ITEM_PIPELINES是启用的管道文件，在本项目中只有一个，直接添加进去\n",
    "#### 后面的数字，范围在1~1000内就可以了"
   ]
  },
  {
   "cell_type": "code",
   "execution_count": null,
   "metadata": {
    "collapsed": true
   },
   "outputs": [],
   "source": []
  },
  {
   "cell_type": "markdown",
   "metadata": {},
   "source": [
    "### pipelines.py管道文件代码如下↓："
   ]
  },
  {
   "cell_type": "code",
   "execution_count": null,
   "metadata": {
    "collapsed": true
   },
   "outputs": [],
   "source": [
    "import sqlite3\n",
    "\n",
    "class ZufangPipeline(object):\n",
    "    def open_spider(self, spider):\n",
    "        self.con = sqlite3.connect(\"zufang.sqlite\")\n",
    "        self.cu = self.con.cursor()\n",
    "\n",
    "    def process_item(self, item, spider):\n",
    "        print(spider.name, 'pipelines')\n",
    "        insert_sql = \"insert into zufang (title, money) values ('{}','{}')\".format(item['title'], item['money'])\n",
    "        print(insert_sql)\n",
    "        self.cu.execute(insert_sql)\n",
    "        self.con.commit()\n",
    "        return item\n",
    "\n",
    "    def spider_close(self, spider):\n",
    "        self.con.close()"
   ]
  }
 ],
 "metadata": {
  "kernelspec": {
   "display_name": "Python 3",
   "language": "python",
   "name": "python3"
  },
  "language_info": {
   "codemirror_mode": {
    "name": "ipython",
    "version": 3
   },
   "file_extension": ".py",
   "mimetype": "text/x-python",
   "name": "python",
   "nbconvert_exporter": "python",
   "pygments_lexer": "ipython3",
   "version": "3.6.3"
  }
 },
 "nbformat": 4,
 "nbformat_minor": 2
}
